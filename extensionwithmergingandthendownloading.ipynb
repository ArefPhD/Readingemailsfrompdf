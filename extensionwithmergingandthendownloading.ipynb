{
  "nbformat": 4,
  "nbformat_minor": 0,
  "metadata": {
    "colab": {
      "private_outputs": true,
      "provenance": []
    },
    "kernelspec": {
      "name": "python3",
      "display_name": "Python 3"
    },
    "language_info": {
      "name": "python"
    }
  },
  "cells": [
    {
      "cell_type": "code",
      "source": [
        "from google.colab import files\n",
        "from PyPDF2 import PdfFileMerger\n",
        "\n",
        "uploaded = files.upload() # prompt the user to upload the PDFs\n",
        "\n"
      ],
      "metadata": {
        "id": "vP7Ko7EXoAlw"
      },
      "execution_count": null,
      "outputs": []
    },
    {
      "cell_type": "code",
      "source": [
        "from PyPDF2 import PdfMerger\n",
        "\n",
        "merger = PdfMerger()\n",
        "\n",
        "for pdf in uploaded.keys():\n",
        "    merger.append(pdf)\n",
        "\n",
        "with open('merged.pdf', 'wb') as fout:\n",
        "    merger.write(fout)\n",
        "\n",
        "files.download('merged.pdf')"
      ],
      "metadata": {
        "id": "ItwiP4XhtnzQ"
      },
      "execution_count": null,
      "outputs": []
    },
    {
      "cell_type": "code",
      "source": [
        "import gc\n",
        "gc.collect()\n"
      ],
      "metadata": {
        "id": "vNkwI6wYoKXW"
      },
      "execution_count": null,
      "outputs": []
    },
    {
      "cell_type": "code",
      "execution_count": null,
      "metadata": {
        "id": "xyCnu0zCn8mo"
      },
      "outputs": [],
      "source": [
        "import PyPDF2\n",
        "import re\n",
        "import pandas as pd\n",
        "\n",
        "emails_df = pd.DataFrame(columns=[\"Email\"])\n",
        "\n",
        "# Open the PDF file\n",
        "with open(\"ApplRheol-D-22-00036 (1).pdf\", \"rb\") as file:\n",
        "    pdf = PyPDF2.PdfReader(file)\n",
        "    \n",
        "    # Iterate through each page of the PDF\n",
        "    for page in range(len(reader.pages)):\n",
        "        text = reader.pages[page].extract_text()\n",
        "        \n",
        "        # Use regular expressions to find email addresses in the text\n",
        "        emails = re.findall(r\"[a-zA-Z0-9_.+-]+@[a-zA-Z0-9-]+\\.[a-zA-Z0-9-.]+\", text)\n",
        "        \n",
        "        # Print the email addresses\n",
        "        for email in emails:\n",
        "            emails_df = emails_df.append({\"Email\": email}, ignore_index=True)\n",
        "\n",
        "print(emails_df)"
      ]
    }
  ]
}